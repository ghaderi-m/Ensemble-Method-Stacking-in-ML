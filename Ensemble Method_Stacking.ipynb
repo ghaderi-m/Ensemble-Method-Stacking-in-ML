{
 "cells": [
  {
   "cell_type": "code",
   "execution_count": null,
   "metadata": {
    "colab": {
     "base_uri": "https://localhost:8080/"
    },
    "id": "iYJP_3XLNtg3",
    "outputId": "c6af7a01-d4ff-40c1-9c0c-cb9ae84c3119"
   },
   "outputs": [],
   "source": [
    "import numpy as np\n",
    "import random\n",
    "import tensorflow as tf\n",
    "from sklearn.datasets import make_blobs\n",
    "from tensorflow.python.framework.random_seed import set_random_seed\n",
    "from keras import initializers\n",
    "from matplotlib import pyplot\n",
    "from sklearn.model_selection import train_test_split\n",
    "from sklearn.tree import DecisionTreeClassifier\n",
    "from sklearn.linear_model import LogisticRegression\n",
    "from sklearn.metrics import accuracy_score\n",
    "from keras.models import Sequential\n",
    "from keras.optimizers import SGD\n",
    "from keras.callbacks import EarlyStopping\n",
    "from keras.layers import Dense, Input\n",
    "from keras.utils import to_categorical\n",
    "from tensorflow.python.framework.random_seed import set_random_seed\n",
    "\n",
    "X, y = make_blobs(n_samples=1100, centers=3, n_features=2, cluster_std=2, random_state=2)\n",
    "trainX, valtestX, trainy, valtesty = train_test_split(X, y, train_size=0.1, shuffle=False)\n",
    "valX, testX, valy, testy = train_test_split(valtestX, valtesty, train_size=0.112, shuffle=False)\n",
    "trainy_cat, valy_cat, testy_cat = to_categorical(trainy), to_categorical(valy), to_categorical(testy)\n",
    "\n",
    "print(trainX.shape, valX.shape, testX.shape)\n",
    "\n",
    "random.seed(42)\n",
    "np.random.seed(42)\n",
    "set_random_seed(42)\n"
   ]
  },
  {
   "cell_type": "code",
   "execution_count": null,
   "metadata": {
    "colab": {
     "base_uri": "https://localhost:8080/"
    },
    "id": "5l9EJgkR74vZ",
    "outputId": "52db8e5d-f2ed-4488-a894-ecba6bac23f1"
   },
   "outputs": [],
   "source": [
    "# Create the Neural Network model\n",
    "nn_model = Sequential()\n",
    "nn_model.add(Dense(25, input_dim=2, activation='relu'))\n",
    "nn_model.add(Dense(3, activation='softmax'))\n",
    "\n",
    "# Compile the model\n",
    "nn_model.compile(loss='categorical_crossentropy', optimizer='adam', metrics=['accuracy'])\n",
    "\n",
    "# Train the model\n",
    "history = nn_model.fit(trainX, trainy_cat, epochs=500, validation_data=(valX, valy_cat), verbose=2)\n",
    "\n",
    "# Evaluate the nn_model on the validation set\n",
    "val_loss, val_accuracy = nn_model.evaluate(valX, valy_cat)\n"
   ]
  },
  {
   "cell_type": "code",
   "execution_count": null,
   "metadata": {
    "colab": {
     "base_uri": "https://localhost:8080/",
     "height": 451
    },
    "id": "sk7qiXsf8_IZ",
    "outputId": "858b8dd3-3653-4ef2-d3ec-050d393bbe93"
   },
   "outputs": [],
   "source": [
    "_, train_acc = nn_model.evaluate(trainX, trainy_cat, verbose=0)\n",
    "_, val_acc = nn_model.evaluate(valX, valy_cat, verbose=0)\n",
    "_, test_acc = nn_model.evaluate(testX, testy_cat, verbose=0)\n",
    "print('Train: %.3f, Val: %.3f, Test: %.3f' % (train_acc, val_acc, test_acc))\n",
    "pyplot.plot(history.history['accuracy'], label='train')\n",
    "pyplot.plot(history.history['val_accuracy'], label='validation')\n",
    "pyplot.legend()\n",
    "pyplot.show()"
   ]
  },
  {
   "cell_type": "code",
   "execution_count": null,
   "metadata": {
    "colab": {
     "base_uri": "https://localhost:8080/",
     "height": 74
    },
    "id": "2Qy1lc2vTQ4H",
    "outputId": "223fb114-7483-4db8-a4a5-f9ec83aaa282"
   },
   "outputs": [],
   "source": [
    "# Initialize Decision Tree model\n",
    "dt_model = DecisionTreeClassifier(random_state=123, max_depth=2)\n",
    "\n",
    "# Train the Decision Tree model on the training set\n",
    "dt_model.fit(trainX, trainy)\n"
   ]
  },
  {
   "cell_type": "code",
   "execution_count": null,
   "metadata": {
    "colab": {
     "base_uri": "https://localhost:8080/"
    },
    "id": "khLZZVCaZmmu",
    "outputId": "02b6d8bc-5e6f-4ef2-fc68-059154efa399"
   },
   "outputs": [],
   "source": [
    "print('Train: %.3f, Val: %.3f, Test: %.3f' % (dt_model.score(trainX, trainy), dt_model.score(valX, valy), dt_model.score(testX, testy)))\n",
    "nn_scores_train, nn_scores_val, nn_scores_test = (nn_model.predict(trainX), nn_model.predict(valX), nn_model.predict(testX))\n",
    "dt_scores_train, dt_scores_val, dt_scores_test = (dt_model.predict_proba(trainX), dt_model.predict_proba(valX), dt_model.predict_proba(testX))\n"
   ]
  },
  {
   "cell_type": "code",
   "execution_count": null,
   "metadata": {
    "id": "SXgcnhLKHJSr"
   },
   "outputs": [],
   "source": [
    "# Create stacked datasets\n",
    "stacked_X_train = np.hstack((nn_scores_train, dt_scores_train))\n",
    "stacked_X_val = np.hstack((nn_scores_val, dt_scores_val))\n",
    "stacked_X_test = np.hstack((nn_scores_test, dt_scores_test))"
   ]
  },
  {
   "cell_type": "code",
   "execution_count": null,
   "metadata": {
    "colab": {
     "base_uri": "https://localhost:8080/"
    },
    "id": "13W6-lX9HP6F",
    "outputId": "56b3d033-ef74-4265-bc03-94df7eabb99a"
   },
   "outputs": [],
   "source": [
    "print(stacked_X_train.shape, stacked_X_val.shape, stacked_X_test.shape)"
   ]
  },
  {
   "cell_type": "code",
   "execution_count": null,
   "metadata": {
    "colab": {
     "base_uri": "https://localhost:8080/"
    },
    "id": "TDFnIM7_UJFW",
    "outputId": "c58766f0-55d1-46cc-8182-62379fceda85"
   },
   "outputs": [],
   "source": [
    "# Values of C to be tested\n",
    "C_values = [0.001, 0.01, 0.1, 1, 10, 100, 1000]\n",
    "\n",
    "# Initialize variables to store the best accuracy and corresponding C value\n",
    "best_accuracy = 0\n",
    "best_C = None\n",
    "\n",
    "# Train Logistic Regression models with different C values and select the best one\n",
    "for C in C_values:\n",
    "    # Initialize Logistic Regression model\n",
    "    lr_model = LogisticRegression(max_iter=500, fit_intercept=True, C=C, random_state=123)\n",
    "\n",
    "    # Train on the stacked training data\n",
    "    lr_model.fit(stacked_X_train, trainy)\n",
    "\n",
    "    # Predict on the validation set\n",
    "    lr_val_predictions = lr_model.predict(stacked_X_val)\n",
    "\n",
    "    # Calculate accuracy on the validation set\n",
    "    accuracy = accuracy_score(valy, lr_val_predictions)\n",
    "\n",
    "    # Update the best accuracy and corresponding C value\n",
    "    if accuracy > best_accuracy:\n",
    "        best_accuracy = accuracy\n",
    "        best_C = C\n",
    "\n",
    "# Train the best Logistic Regression model on the training set\n",
    "best_lr_model = LogisticRegression(max_iter=500, fit_intercept=True, C=best_C, random_state=123)\n",
    "best_lr_model.fit(stacked_X_train, trainy)\n",
    "\n",
    "# Predict on the validation set and test set\n",
    "lr_val_predictions = best_lr_model.predict(stacked_X_val)\n",
    "lr_test_predictions = best_lr_model.predict(stacked_X_test)\n",
    "\n",
    "# Calculate accuracy on the validation set and test set\n",
    "val_accuracy = accuracy_score(valy, lr_val_predictions)\n",
    "test_accuracy = accuracy_score(testy, lr_test_predictions)\n",
    "\n",
    "# Print the accuracy of the best model on the validation and test sets\n",
    "print(f'Best C value: {best_C}')\n",
    "print(f'Accuracy on Validation Set: {val_accuracy}')\n",
    "print(f'Accuracy on Test Set: {test_accuracy}')\n"
   ]
  }
 ],
 "metadata": {
  "colab": {
   "provenance": []
  },
  "kernelspec": {
   "display_name": "Python 3 (ipykernel)",
   "language": "python",
   "name": "python3"
  },
  "language_info": {
   "codemirror_mode": {
    "name": "ipython",
    "version": 3
   },
   "file_extension": ".py",
   "mimetype": "text/x-python",
   "name": "python",
   "nbconvert_exporter": "python",
   "pygments_lexer": "ipython3",
   "version": "3.10.9"
  }
 },
 "nbformat": 4,
 "nbformat_minor": 1
}
